{
 "cells": [
  {
   "cell_type": "code",
   "execution_count": null,
   "metadata": {},
   "outputs": [],
   "source": [
    "%load_ext autoreload\n",
    "%autoreload 2"
   ]
  },
  {
   "cell_type": "code",
   "execution_count": null,
   "metadata": {},
   "outputs": [],
   "source": [
    "import plotly.express as px\n",
    "import plotly.graph_objects as go"
   ]
  },
  {
   "cell_type": "code",
   "execution_count": null,
   "metadata": {},
   "outputs": [],
   "source": [
    "from transformers import CLIPProcessor, CLIPModel, CLIPVisionModelWithProjection\n",
    "\n",
    "model = CLIPVisionModelWithProjection.from_pretrained(\n",
    "    pretrained_model_name_or_path='openai/clip-vit-large-patch14',\n",
    "    ignore_mismatched_sizes=True\n",
    ")\n",
    "model.to(device='cuda:0')"
   ]
  },
  {
   "cell_type": "code",
   "execution_count": null,
   "metadata": {},
   "outputs": [],
   "source": [
    "import src.data.make_dataset as md\n",
    "from torch.utils.data import DataLoader\n",
    "from src import utils\n",
    "import src.models.clip.make_lightning as clip_ml\n",
    "\n",
    "config = utils.get_config()\n",
    "\n",
    "wandb_config = utils.load_config('clip.yml')\n",
    "model = clip_ml.get_model(wandb_config)\n",
    "base_dataset = md.get_base_dataset(config)\n",
    "train_indices, val_indices = md.get_train_val_indices(wandb_config, base_dataset)\n",
    "\n",
    "dataset = md.RefConDataset(\n",
    "    config=config,\n",
    "    wandb_config=wandb_config,\n",
    "    dataset=base_dataset,\n",
    "    indices=train_indices,\n",
    "    train=True\n",
    ")\n",
    "\n",
    "dataloader = DataLoader(\n",
    "    dataset=dataset,\n",
    "    batch_size=wandb_config['batch_size'],\n",
    "    num_workers=config['archi']['num_workers'],\n",
    "    drop_last=True,\n",
    "    shuffle=True,\n",
    ")"
   ]
  },
  {
   "cell_type": "code",
   "execution_count": null,
   "metadata": {},
   "outputs": [],
   "source": [
    "from src.submissions import search\n",
    "from PIL import Image\n",
    "from src import utils\n",
    "import torch\n",
    "\n",
    "config = utils.get_config()\n",
    "wandb_run = utils.get_run('2khs9u4f')\n",
    "model = search.RefConInferenceModel(config, wandb_run, 0)\n",
    "image = Image.open('/home/external-rosia/RosIA/reflection-connection/data/raw/train/Boring/abwao.png')\n",
    "image = image.convert(\"RGB\")\n",
    "outputs = model(images=image)\n",
    "\n",
    "del model\n",
    "torch.cuda.empty_cache()"
   ]
  },
  {
   "cell_type": "code",
   "execution_count": null,
   "metadata": {},
   "outputs": [],
   "source": [
    "from src.submissions import search\n",
    "from PIL import Image\n",
    "from src import utils\n",
    "import torch\n",
    "\n",
    "config = utils.get_config()\n",
    "wandb_run = utils.get_run('2khs9u4f')\n",
    "\n",
    "query_set = search.ImageSet(config, wandb_run, query=True, cuda_idx=0)\n",
    "corpus_set = search.ImageSet(config, wandb_run, query=False, cuda_idx=0)\n",
    "query_set.build_embeddings()\n",
    "corpus_set.build_embeddings()\n",
    "sbf = search.SearchBruteForce(corpus_set)\n",
    "sbf.query(query_set)"
   ]
  }
 ],
 "metadata": {
  "kernelspec": {
   "display_name": "segmenting-subsurface-env",
   "language": "python",
   "name": "python3"
  },
  "language_info": {
   "codemirror_mode": {
    "name": "ipython",
    "version": 3
   },
   "file_extension": ".py",
   "mimetype": "text/x-python",
   "name": "python",
   "nbconvert_exporter": "python",
   "pygments_lexer": "ipython3",
   "version": "3.10.13"
  }
 },
 "nbformat": 4,
 "nbformat_minor": 2
}
