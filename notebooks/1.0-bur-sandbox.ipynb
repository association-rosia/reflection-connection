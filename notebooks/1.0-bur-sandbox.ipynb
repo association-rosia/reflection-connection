{
 "cells": [
  {
   "cell_type": "code",
   "execution_count": null,
   "metadata": {},
   "outputs": [],
   "source": [
    "%load_ext autoreload\n",
    "%autoreload 2"
   ]
  },
  {
   "cell_type": "code",
   "execution_count": null,
   "metadata": {},
   "outputs": [],
   "source": [
    "import plotly.express as px\n",
    "import plotly.graph_objects as go"
   ]
  },
  {
   "cell_type": "code",
   "execution_count": null,
   "metadata": {},
   "outputs": [],
   "source": [
    "from transformers import CLIPProcessor, CLIPModel, CLIPVisionModelWithProjection\n",
    "\n",
    "clip_model = CLIPVisionModelWithProjection.from_pretrained(\n",
    "    pretrained_model_name_or_path='openai/clip-vit-large-patch14',\n",
    "    ignore_mismatched_sizes=True\n",
    ")\n",
    "clip_model.to(device='cuda:0')"
   ]
  },
  {
   "cell_type": "code",
   "execution_count": null,
   "metadata": {},
   "outputs": [],
   "source": [
    "from transformers import Dinov2Model\n",
    "\n",
    "dv2_model = Dinov2Model.from_pretrained(\n",
    "    pretrained_model_name_or_path='facebook/dinov2-base',\n",
    "    ignore_mismatched_sizes=True\n",
    ")\n",
    "dv2_model.to(device='cuda:1')"
   ]
  },
  {
   "cell_type": "code",
   "execution_count": null,
   "metadata": {},
   "outputs": [],
   "source": [
    "from PIL import Image\n",
    "import src.data.transforms as dT\n",
    "from src import utils\n",
    "config = utils.get_config()\n",
    "wandb_config = utils.load_config('clip.yml')\n",
    "processor = dT.make_training_processor(config, wandb_config)\n",
    "image = Image.open('/home/external-rosia/RosIA/reflection-connection/data/raw/train/Boring/abwao.png')\n",
    "image = image.convert(\"RGB\")\n",
    "for _ in range(10):\n",
    "    inputs = processor.preprocess_image([image])\n",
    "    print(inputs.shape)"
   ]
  },
  {
   "cell_type": "code",
   "execution_count": null,
   "metadata": {},
   "outputs": [],
   "source": [
    "outputs = clip_model(pixel_values=image.to(device='cuda:0'))\n",
    "for k, v in outputs.items():\n",
    "    display(k, v.shape)"
   ]
  },
  {
   "cell_type": "code",
   "execution_count": null,
   "metadata": {},
   "outputs": [],
   "source": [
    "outputs = dv2_model(pixel_values=image.to(device='cuda:1'))\n",
    "for k, v in outputs.items():\n",
    "    display(k, v.shape)"
   ]
  },
  {
   "cell_type": "code",
   "execution_count": null,
   "metadata": {},
   "outputs": [],
   "source": [
    "import torch\n",
    "from torch import nn\n",
    "from src.models.losses import make_triplet_criterion\n",
    "\n",
    "input1 = torch.randn(1, 128)\n",
    "anchors = torch.repeat_interleave(input1, repeats=2, dim=0)\n",
    "# input2 = torch.randn(1, 128)\n",
    "positives = torch.repeat_interleave(input1, repeats=2, dim=0)\n",
    "negatives = torch.repeat_interleave(-input1, repeats=2, dim=0)\n",
    "cos = nn.CosineSimilarity(dim=1, eps=1e-6)\n",
    "display(1 - cos(anchors, positives))\n",
    "display(1 - cos(anchors, negatives))\n",
    "criterion = make_triplet_criterion({'criterion': 'TMWDL-Cosine'})\n",
    "criterion(anchors, negatives, positives)"
   ]
  },
  {
   "cell_type": "code",
   "execution_count": null,
   "metadata": {},
   "outputs": [],
   "source": [
    "from src.submissions import search\n",
    "from PIL import Image\n",
    "from src import utils\n",
    "import torch\n",
    "\n",
    "config = utils.get_config()\n",
    "wandb_run = utils.get_run('2khs9u4f')\n",
    "model = search.RefConInferenceModel(config, wandb_run, 0)\n",
    "image = Image.open('/home/external-rosia/RosIA/reflection-connection/data/raw/train/Boring/abwao.png')\n",
    "image = image.convert(\"RGB\")\n",
    "outputs = model(images=image)\n",
    "\n",
    "del model\n",
    "torch.cuda.empty_cache()"
   ]
  },
  {
   "cell_type": "code",
   "execution_count": null,
   "metadata": {},
   "outputs": [],
   "source": [
    "from src.submissions import search\n",
    "from PIL import Image\n",
    "from src import utils\n",
    "import torch\n",
    "\n",
    "config = utils.get_config()\n",
    "wandb_run = utils.get_run('2khs9u4f')\n",
    "\n",
    "query_set = search.ImageSet(config, wandb_run, query=True, cuda_idx=0)\n",
    "corpus_set = search.ImageSet(config, wandb_run, query=False, cuda_idx=0)\n",
    "query_set.build_embeddings()\n",
    "corpus_set.build_embeddings()\n",
    "sbf = search.SearchBruteForce(corpus_set)\n",
    "sbf.query(query_set)"
   ]
  },
  {
   "cell_type": "code",
   "execution_count": null,
   "metadata": {},
   "outputs": [],
   "source": [
    "from transformers import AutoImageProcessor, AutoModel\n",
    "from PIL import Image\n",
    "import requests\n",
    "import plotly.express as px\n",
    "\n",
    "url = 'http://images.cocodataset.org/val2017/000000039769.jpg'\n",
    "image = Image.open(requests.get(url, stream=True).raw)\n",
    "\n",
    "processor = AutoImageProcessor.from_pretrained('facebook/dinov2-base')\n",
    "# model = AutoModel.from_pretrained('facebook/dinov2-base')\n",
    "px.imshow(image).show()\n",
    "inputs = processor(images=image, return_tensors=\"pt\", do_normalize=False)\n",
    "process_image = inputs['pixel_values'].squeeze().movedim(0, 2).numpy(force=True) * 255\n",
    "\n",
    "px.imshow(process_image.tolist()).show()\n",
    "# outputs = model(**inputs)\n",
    "# last_hidden_states = outputs.last_hidden_state\n"
   ]
  },
  {
   "cell_type": "code",
   "execution_count": null,
   "metadata": {},
   "outputs": [],
   "source": [
    "from typing import Sequence\n",
    "import torch\n",
    "import torchvision.transforms.functional as tvF\n",
    "from torchvision import transforms\n",
    "from PIL import Image\n",
    "torch.tensor()\n",
    "list_image = [Image.open(path)for path in ['/home/external-rosia/RosIA/reflection-connection/data/raw/train/Boring/ztqsz.png']*2]\n",
    "tvF.to_tensor(list_image)"
   ]
  }
 ],
 "metadata": {
  "kernelspec": {
   "display_name": "segmenting-subsurface-env",
   "language": "python",
   "name": "python3"
  },
  "language_info": {
   "codemirror_mode": {
    "name": "ipython",
    "version": 3
   },
   "file_extension": ".py",
   "mimetype": "text/x-python",
   "name": "python",
   "nbconvert_exporter": "python",
   "pygments_lexer": "ipython3",
   "version": "3.10.13"
  }
 },
 "nbformat": 4,
 "nbformat_minor": 2
}
