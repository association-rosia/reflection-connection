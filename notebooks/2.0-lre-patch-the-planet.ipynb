{
 "cells": [
  {
   "cell_type": "code",
   "execution_count": null,
   "id": "5c866283",
   "metadata": {
    "ExecuteTime": {
     "end_time": "2024-03-07T12:23:46.662038Z",
     "start_time": "2024-03-07T12:23:46.290349Z"
    }
   },
   "outputs": [],
   "source": [
    "from glob import glob\n",
    "from PIL import Image\n",
    "import numpy as np\n",
    "import matplotlib.pyplot as plt\n",
    "import cv2\n",
    "import os"
   ]
  },
  {
   "cell_type": "code",
   "execution_count": null,
   "id": "d4ccf4b4-8716-4de0-b061-36ef80930adf",
   "metadata": {
    "ExecuteTime": {
     "end_time": "2024-03-07T12:23:47.460607Z",
     "start_time": "2024-03-07T12:23:47.446630Z"
    }
   },
   "outputs": [],
   "source": [
    "def get_values_counts(raw_data_path):\n",
    "    shapes = []\n",
    "    for image_path in glob(raw_data_path, recursive=True):\n",
    "        image = Image.open(image_path).convert('L')\n",
    "        shapes.append(np.array(image).shape)\n",
    "    \n",
    "    values, counts = np.unique(shapes, return_counts=True, axis=0)\n",
    "\n",
    "    return values, counts\n",
    "\n",
    "\n",
    "def draw_random_shape(values, counts):\n",
    "    probabilities = counts / counts.sum()\n",
    "    index = np.random.choice(len(values), p=probabilities)\n",
    "    random_shape = values[index]\n",
    "\n",
    "    return random_shape\n",
    "\n",
    "\n",
    "def normalize_pretrain_slice(slice):\n",
    "    return cv2.normalize(slice, None, 0.0, 1.0, cv2.NORM_MINMAX, cv2.CV_32FC1)\n",
    "\n",
    "\n",
    "def adjust_coordinates(x0, y0, h, w, max_h, max_w):\n",
    "    x1 = x0 + h\n",
    "    y1 = y0 + w\n",
    "    \n",
    "    if x1 > max_h:\n",
    "        x0 = max_h - h\n",
    "        x1 = max_h\n",
    "        \n",
    "    if y1 > max_w:\n",
    "        y0 = max_w - w\n",
    "        y1 = max_w\n",
    "        \n",
    "    return x0, x1, y0, y1\n",
    "\n",
    "\n",
    "def get_slice_tiles_coords(values, counts, max_h=1259, max_w=300):\n",
    "    tiles_coords = []\n",
    "    \n",
    "    for x0 in range(0, max_h, 126):\n",
    "        for y0 in range(0, max_w, 100):\n",
    "            h, w = draw_random_shape(values, counts)\n",
    "            x0, x1, y0, y1 = adjust_coordinates(x0, y0, h, w, max_h, max_w)\n",
    "            tiles_coords.append((x0, x1, y0, y1))\n",
    "            \n",
    "    return tiles_coords"
   ]
  },
  {
   "cell_type": "code",
   "execution_count": null,
   "id": "d5b44a80-bcfb-436e-81e6-54cb2a02808c",
   "metadata": {
    "ExecuteTime": {
     "end_time": "2024-03-07T12:23:48.718308Z",
     "start_time": "2024-03-07T12:23:48.256760Z"
    }
   },
   "outputs": [],
   "source": [
    "raw_data_path = \"../data/raw/**/*.png\"\n",
    "values, counts = get_values_counts(raw_data_path)"
   ]
  },
  {
   "cell_type": "code",
   "execution_count": null,
   "id": "6c66aaf2-0c0f-4060-9b59-31e8b071faf5",
   "metadata": {
    "ExecuteTime": {
     "end_time": "2024-03-07T12:24:25.323534Z",
     "start_time": "2024-03-07T12:24:25.313434Z"
    }
   },
   "outputs": [],
   "source": [
    "weighted_mean_height = np.average(values[:, 0], weights=counts)\n",
    "weighted_mean_width = np.average(values[:, 1], weights=counts)\n",
    "\n",
    "weighted_mean_height, weighted_mean_width"
   ]
  },
  {
   "cell_type": "code",
   "execution_count": null,
   "id": "12dac12f-4db7-4d58-acdc-bd9448f8f445",
   "metadata": {
    "ExecuteTime": {
     "end_time": "2024-03-07T12:24:28.532242Z",
     "start_time": "2024-03-07T12:24:28.527179Z"
    }
   },
   "outputs": [],
   "source": [
    "tiles_coords = get_slice_tiles_coords(values, counts)"
   ]
  },
  {
   "cell_type": "code",
   "execution_count": null,
   "id": "9b0bf5a6-0dcd-47cd-b4ac-f12f8f7ca833",
   "metadata": {
    "ExecuteTime": {
     "end_time": "2024-03-07T12:24:30.784851Z",
     "start_time": "2024-03-07T12:24:29.771741Z"
    }
   },
   "outputs": [],
   "source": [
    "slice_idx = 5\n",
    "volume = np.load('../data/raw/pretrain/patch-the-planet-train-data-part5/seismicCubes_RFC_fullstack_2023.76358893.npy')\n",
    "slice = volume[slice_idx, :, :].T"
   ]
  },
  {
   "cell_type": "code",
   "execution_count": null,
   "id": "a5589abc20fe512d",
   "metadata": {
    "ExecuteTime": {
     "end_time": "2024-03-07T12:23:51.764630Z",
     "start_time": "2024-03-07T12:23:51.752127Z"
    },
    "collapsed": false,
    "jupyter": {
     "outputs_hidden": false
    }
   },
   "outputs": [],
   "source": [
    "volume"
   ]
  },
  {
   "cell_type": "code",
   "execution_count": null,
   "id": "0a4ac64d-4bc7-4ee9-b3c7-8f8ba3eba680",
   "metadata": {
    "ExecuteTime": {
     "end_time": "2024-03-06T22:26:45.247124Z",
     "start_time": "2024-03-06T22:26:41.924092Z"
    }
   },
   "outputs": [],
   "source": [
    "for x0, x1, y0, y1 in tiles_coords:\n",
    "    tile = slice[x0:x1, y0:y1]\n",
    "    tile = normalize_pretrain_slice(tile)\n",
    "    plt.imshow(tile, cmap='gray')\n",
    "    plt.show()"
   ]
  }
 ],
 "metadata": {
  "kernelspec": {
   "display_name": "Python 3 (ipykernel)",
   "language": "python",
   "name": "python3"
  },
  "language_info": {
   "codemirror_mode": {
    "name": "ipython",
    "version": 3
   },
   "file_extension": ".py",
   "mimetype": "text/x-python",
   "name": "python",
   "nbconvert_exporter": "python",
   "pygments_lexer": "ipython3",
   "version": "3.10.13"
  }
 },
 "nbformat": 4,
 "nbformat_minor": 5
}
